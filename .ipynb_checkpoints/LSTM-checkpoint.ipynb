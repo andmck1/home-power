{
 "cells": [
  {
   "cell_type": "markdown",
   "metadata": {},
   "source": [
    "## Imports"
   ]
  },
  {
   "cell_type": "code",
   "execution_count": 1,
   "metadata": {},
   "outputs": [
    {
     "name": "stderr",
     "output_type": "stream",
     "text": [
      "Using TensorFlow backend.\n"
     ]
    }
   ],
   "source": [
    "import pandas as pd\n",
    "import numpy as np\n",
    "from sklearn.model_selection import TimeSeriesSplit\n",
    "\n",
    "from keras.models import Sequential\n",
    "from keras.layers import Dense\n",
    "from keras.layers import Flatten\n",
    "from keras.layers import LSTM"
   ]
  },
  {
   "cell_type": "code",
   "execution_count": 2,
   "metadata": {},
   "outputs": [],
   "source": [
    "from timeseries import evaluate, preproc"
   ]
  },
  {
   "cell_type": "code",
   "execution_count": 3,
   "metadata": {},
   "outputs": [],
   "source": [
    "%matplotlib inline"
   ]
  },
  {
   "cell_type": "markdown",
   "metadata": {},
   "source": [
    "## Config"
   ]
  },
  {
   "cell_type": "code",
   "execution_count": 4,
   "metadata": {},
   "outputs": [],
   "source": [
    "n_input = 14"
   ]
  },
  {
   "cell_type": "markdown",
   "metadata": {},
   "source": [
    "## Functions"
   ]
  },
  {
   "cell_type": "markdown",
   "metadata": {},
   "source": [
    "## Model"
   ]
  },
  {
   "cell_type": "code",
   "execution_count": 7,
   "metadata": {},
   "outputs": [],
   "source": [
    "def build_model(n_timesteps, n_features, n_outputs):\n",
    "    \n",
    "    # Define model\n",
    "    model = Sequential()\n",
    "    model.add(LSTM(200, activation='relu', input_shape=(n_timesteps, n_features)))\n",
    "    model.add(Dense(100, activation='relu'))\n",
    "    model.add(Dense(n_outputs))\n",
    "    model.compile(loss='mse', optimizer='adam')\n",
    "    \n",
    "    return model"
   ]
  },
  {
   "cell_type": "markdown",
   "metadata": {},
   "source": [
    "## Data Ingestion"
   ]
  },
  {
   "cell_type": "code",
   "execution_count": 8,
   "metadata": {},
   "outputs": [],
   "source": [
    "dataset = pd.read_csv('household_power_consumption.txt', sep=';', header=0, low_memory=False, infer_datetime_format=True, parse_dates={'datetime':[0,1]}, index_col=['datetime'])\n",
    "dataset = dataset.replace('?', np.nan).astype('float32').fillna(method='ffill')"
   ]
  },
  {
   "cell_type": "markdown",
   "metadata": {},
   "source": [
    "## Data Preparation"
   ]
  },
  {
   "cell_type": "code",
   "execution_count": 9,
   "metadata": {},
   "outputs": [],
   "source": [
    "meter_cols = [x for x in dataset.columns if 'Sub' in x]\n",
    "dataset['Sub_metering_4'] = dataset['Global_active_power']*1000/60 - dataset[meter_cols].sum(axis=1)\n",
    "dataset = dataset.resample('D').sum()"
   ]
  },
  {
   "cell_type": "code",
   "execution_count": 18,
   "metadata": {},
   "outputs": [
    {
     "data": {
      "text/html": [
       "<div>\n",
       "<style scoped>\n",
       "    .dataframe tbody tr th:only-of-type {\n",
       "        vertical-align: middle;\n",
       "    }\n",
       "\n",
       "    .dataframe tbody tr th {\n",
       "        vertical-align: top;\n",
       "    }\n",
       "\n",
       "    .dataframe thead th {\n",
       "        text-align: right;\n",
       "    }\n",
       "</style>\n",
       "<table border=\"1\" class=\"dataframe\">\n",
       "  <thead>\n",
       "    <tr style=\"text-align: right;\">\n",
       "      <th></th>\n",
       "      <th>Global_active_power</th>\n",
       "      <th>Global_reactive_power</th>\n",
       "      <th>Voltage</th>\n",
       "      <th>Global_intensity</th>\n",
       "      <th>Sub_metering_1</th>\n",
       "      <th>Sub_metering_2</th>\n",
       "      <th>Sub_metering_3</th>\n",
       "      <th>Sub_metering_4</th>\n",
       "    </tr>\n",
       "    <tr>\n",
       "      <th>datetime</th>\n",
       "      <th></th>\n",
       "      <th></th>\n",
       "      <th></th>\n",
       "      <th></th>\n",
       "      <th></th>\n",
       "      <th></th>\n",
       "      <th></th>\n",
       "      <th></th>\n",
       "    </tr>\n",
       "  </thead>\n",
       "  <tbody>\n",
       "    <tr>\n",
       "      <th>2006-12-16</th>\n",
       "      <td>1209.176025</td>\n",
       "      <td>34.922001</td>\n",
       "      <td>93552.53125</td>\n",
       "      <td>5180.799805</td>\n",
       "      <td>0.0</td>\n",
       "      <td>546.0</td>\n",
       "      <td>4926.0</td>\n",
       "      <td>14680.933594</td>\n",
       "    </tr>\n",
       "    <tr>\n",
       "      <th>2006-12-17</th>\n",
       "      <td>3390.459961</td>\n",
       "      <td>226.005997</td>\n",
       "      <td>345725.31250</td>\n",
       "      <td>14398.599609</td>\n",
       "      <td>2033.0</td>\n",
       "      <td>4187.0</td>\n",
       "      <td>13341.0</td>\n",
       "      <td>36946.667969</td>\n",
       "    </tr>\n",
       "    <tr>\n",
       "      <th>2006-12-18</th>\n",
       "      <td>2203.825928</td>\n",
       "      <td>161.792007</td>\n",
       "      <td>347373.62500</td>\n",
       "      <td>9247.200195</td>\n",
       "      <td>1063.0</td>\n",
       "      <td>2621.0</td>\n",
       "      <td>14018.0</td>\n",
       "      <td>19028.433594</td>\n",
       "    </tr>\n",
       "    <tr>\n",
       "      <th>2006-12-19</th>\n",
       "      <td>1666.193970</td>\n",
       "      <td>150.942001</td>\n",
       "      <td>348479.00000</td>\n",
       "      <td>7094.000000</td>\n",
       "      <td>839.0</td>\n",
       "      <td>7602.0</td>\n",
       "      <td>6197.0</td>\n",
       "      <td>13131.900391</td>\n",
       "    </tr>\n",
       "    <tr>\n",
       "      <th>2006-12-20</th>\n",
       "      <td>2225.748047</td>\n",
       "      <td>160.998001</td>\n",
       "      <td>348923.62500</td>\n",
       "      <td>9313.000000</td>\n",
       "      <td>0.0</td>\n",
       "      <td>2648.0</td>\n",
       "      <td>14063.0</td>\n",
       "      <td>20384.800781</td>\n",
       "    </tr>\n",
       "    <tr>\n",
       "      <th>2006-12-21</th>\n",
       "      <td>1717.112061</td>\n",
       "      <td>144.166000</td>\n",
       "      <td>347100.87500</td>\n",
       "      <td>7240.600098</td>\n",
       "      <td>1765.0</td>\n",
       "      <td>2623.0</td>\n",
       "      <td>10421.0</td>\n",
       "      <td>13809.533203</td>\n",
       "    </tr>\n",
       "    <tr>\n",
       "      <th>2006-12-22</th>\n",
       "      <td>2341.337891</td>\n",
       "      <td>186.906006</td>\n",
       "      <td>347305.75000</td>\n",
       "      <td>9897.000000</td>\n",
       "      <td>3151.0</td>\n",
       "      <td>350.0</td>\n",
       "      <td>11131.0</td>\n",
       "      <td>24390.300781</td>\n",
       "    </tr>\n",
       "    <tr>\n",
       "      <th>2006-12-23</th>\n",
       "      <td>4773.386230</td>\n",
       "      <td>221.470001</td>\n",
       "      <td>345795.93750</td>\n",
       "      <td>20200.400391</td>\n",
       "      <td>2669.0</td>\n",
       "      <td>425.0</td>\n",
       "      <td>14726.0</td>\n",
       "      <td>61736.433594</td>\n",
       "    </tr>\n",
       "    <tr>\n",
       "      <th>2006-12-24</th>\n",
       "      <td>2550.011963</td>\n",
       "      <td>149.899994</td>\n",
       "      <td>348029.90625</td>\n",
       "      <td>11002.200195</td>\n",
       "      <td>1703.0</td>\n",
       "      <td>5082.0</td>\n",
       "      <td>6891.0</td>\n",
       "      <td>28824.199219</td>\n",
       "    </tr>\n",
       "    <tr>\n",
       "      <th>2006-12-25</th>\n",
       "      <td>2743.120117</td>\n",
       "      <td>240.279999</td>\n",
       "      <td>350495.90625</td>\n",
       "      <td>11450.200195</td>\n",
       "      <td>6620.0</td>\n",
       "      <td>1962.0</td>\n",
       "      <td>5795.0</td>\n",
       "      <td>31341.666016</td>\n",
       "    </tr>\n",
       "    <tr>\n",
       "      <th>2006-12-26</th>\n",
       "      <td>3934.110107</td>\n",
       "      <td>165.102005</td>\n",
       "      <td>347940.62500</td>\n",
       "      <td>16341.000000</td>\n",
       "      <td>1086.0</td>\n",
       "      <td>2533.0</td>\n",
       "      <td>14979.0</td>\n",
       "      <td>46970.500000</td>\n",
       "    </tr>\n",
       "    <tr>\n",
       "      <th>2006-12-27</th>\n",
       "      <td>1528.760010</td>\n",
       "      <td>178.902008</td>\n",
       "      <td>351025.00000</td>\n",
       "      <td>6505.200195</td>\n",
       "      <td>0.0</td>\n",
       "      <td>314.0</td>\n",
       "      <td>6976.0</td>\n",
       "      <td>18189.333984</td>\n",
       "    </tr>\n",
       "    <tr>\n",
       "      <th>2006-12-28</th>\n",
       "      <td>2072.637939</td>\n",
       "      <td>208.876007</td>\n",
       "      <td>350306.40625</td>\n",
       "      <td>8764.200195</td>\n",
       "      <td>2207.0</td>\n",
       "      <td>4419.0</td>\n",
       "      <td>9176.0</td>\n",
       "      <td>18741.966797</td>\n",
       "    </tr>\n",
       "    <tr>\n",
       "      <th>2006-12-29</th>\n",
       "      <td>3174.392090</td>\n",
       "      <td>196.393997</td>\n",
       "      <td>346854.68750</td>\n",
       "      <td>13350.799805</td>\n",
       "      <td>1252.0</td>\n",
       "      <td>5162.0</td>\n",
       "      <td>11329.0</td>\n",
       "      <td>35163.535156</td>\n",
       "    </tr>\n",
       "    <tr>\n",
       "      <th>2006-12-30</th>\n",
       "      <td>2801.738037</td>\n",
       "      <td>312.756012</td>\n",
       "      <td>346372.31250</td>\n",
       "      <td>11976.599609</td>\n",
       "      <td>3148.0</td>\n",
       "      <td>7929.0</td>\n",
       "      <td>12516.0</td>\n",
       "      <td>23102.632812</td>\n",
       "    </tr>\n",
       "    <tr>\n",
       "      <th>2006-12-31</th>\n",
       "      <td>3494.196045</td>\n",
       "      <td>150.852005</td>\n",
       "      <td>345451.06250</td>\n",
       "      <td>14687.400391</td>\n",
       "      <td>0.0</td>\n",
       "      <td>347.0</td>\n",
       "      <td>6502.0</td>\n",
       "      <td>51387.601562</td>\n",
       "    </tr>\n",
       "    <tr>\n",
       "      <th>2007-01-01</th>\n",
       "      <td>2749.003906</td>\n",
       "      <td>148.166000</td>\n",
       "      <td>345785.71875</td>\n",
       "      <td>11400.400391</td>\n",
       "      <td>0.0</td>\n",
       "      <td>352.0</td>\n",
       "      <td>5880.0</td>\n",
       "      <td>39584.734375</td>\n",
       "    </tr>\n",
       "    <tr>\n",
       "      <th>2007-01-02</th>\n",
       "      <td>1269.235962</td>\n",
       "      <td>190.341995</td>\n",
       "      <td>348399.03125</td>\n",
       "      <td>5348.200195</td>\n",
       "      <td>0.0</td>\n",
       "      <td>348.0</td>\n",
       "      <td>6562.0</td>\n",
       "      <td>14243.933594</td>\n",
       "    </tr>\n",
       "    <tr>\n",
       "      <th>2007-01-03</th>\n",
       "      <td>1014.054016</td>\n",
       "      <td>196.727997</td>\n",
       "      <td>350722.21875</td>\n",
       "      <td>4340.200195</td>\n",
       "      <td>0.0</td>\n",
       "      <td>344.0</td>\n",
       "      <td>4765.0</td>\n",
       "      <td>11791.900391</td>\n",
       "    </tr>\n",
       "    <tr>\n",
       "      <th>2007-01-04</th>\n",
       "      <td>3259.412109</td>\n",
       "      <td>202.302002</td>\n",
       "      <td>345240.43750</td>\n",
       "      <td>13648.599609</td>\n",
       "      <td>1051.0</td>\n",
       "      <td>7597.0</td>\n",
       "      <td>10896.0</td>\n",
       "      <td>34779.535156</td>\n",
       "    </tr>\n",
       "  </tbody>\n",
       "</table>\n",
       "</div>"
      ],
      "text/plain": [
       "            Global_active_power  Global_reactive_power       Voltage  \\\n",
       "datetime                                                               \n",
       "2006-12-16          1209.176025              34.922001   93552.53125   \n",
       "2006-12-17          3390.459961             226.005997  345725.31250   \n",
       "2006-12-18          2203.825928             161.792007  347373.62500   \n",
       "2006-12-19          1666.193970             150.942001  348479.00000   \n",
       "2006-12-20          2225.748047             160.998001  348923.62500   \n",
       "2006-12-21          1717.112061             144.166000  347100.87500   \n",
       "2006-12-22          2341.337891             186.906006  347305.75000   \n",
       "2006-12-23          4773.386230             221.470001  345795.93750   \n",
       "2006-12-24          2550.011963             149.899994  348029.90625   \n",
       "2006-12-25          2743.120117             240.279999  350495.90625   \n",
       "2006-12-26          3934.110107             165.102005  347940.62500   \n",
       "2006-12-27          1528.760010             178.902008  351025.00000   \n",
       "2006-12-28          2072.637939             208.876007  350306.40625   \n",
       "2006-12-29          3174.392090             196.393997  346854.68750   \n",
       "2006-12-30          2801.738037             312.756012  346372.31250   \n",
       "2006-12-31          3494.196045             150.852005  345451.06250   \n",
       "2007-01-01          2749.003906             148.166000  345785.71875   \n",
       "2007-01-02          1269.235962             190.341995  348399.03125   \n",
       "2007-01-03          1014.054016             196.727997  350722.21875   \n",
       "2007-01-04          3259.412109             202.302002  345240.43750   \n",
       "\n",
       "            Global_intensity  Sub_metering_1  Sub_metering_2  Sub_metering_3  \\\n",
       "datetime                                                                       \n",
       "2006-12-16       5180.799805             0.0           546.0          4926.0   \n",
       "2006-12-17      14398.599609          2033.0          4187.0         13341.0   \n",
       "2006-12-18       9247.200195          1063.0          2621.0         14018.0   \n",
       "2006-12-19       7094.000000           839.0          7602.0          6197.0   \n",
       "2006-12-20       9313.000000             0.0          2648.0         14063.0   \n",
       "2006-12-21       7240.600098          1765.0          2623.0         10421.0   \n",
       "2006-12-22       9897.000000          3151.0           350.0         11131.0   \n",
       "2006-12-23      20200.400391          2669.0           425.0         14726.0   \n",
       "2006-12-24      11002.200195          1703.0          5082.0          6891.0   \n",
       "2006-12-25      11450.200195          6620.0          1962.0          5795.0   \n",
       "2006-12-26      16341.000000          1086.0          2533.0         14979.0   \n",
       "2006-12-27       6505.200195             0.0           314.0          6976.0   \n",
       "2006-12-28       8764.200195          2207.0          4419.0          9176.0   \n",
       "2006-12-29      13350.799805          1252.0          5162.0         11329.0   \n",
       "2006-12-30      11976.599609          3148.0          7929.0         12516.0   \n",
       "2006-12-31      14687.400391             0.0           347.0          6502.0   \n",
       "2007-01-01      11400.400391             0.0           352.0          5880.0   \n",
       "2007-01-02       5348.200195             0.0           348.0          6562.0   \n",
       "2007-01-03       4340.200195             0.0           344.0          4765.0   \n",
       "2007-01-04      13648.599609          1051.0          7597.0         10896.0   \n",
       "\n",
       "            Sub_metering_4  \n",
       "datetime                    \n",
       "2006-12-16    14680.933594  \n",
       "2006-12-17    36946.667969  \n",
       "2006-12-18    19028.433594  \n",
       "2006-12-19    13131.900391  \n",
       "2006-12-20    20384.800781  \n",
       "2006-12-21    13809.533203  \n",
       "2006-12-22    24390.300781  \n",
       "2006-12-23    61736.433594  \n",
       "2006-12-24    28824.199219  \n",
       "2006-12-25    31341.666016  \n",
       "2006-12-26    46970.500000  \n",
       "2006-12-27    18189.333984  \n",
       "2006-12-28    18741.966797  \n",
       "2006-12-29    35163.535156  \n",
       "2006-12-30    23102.632812  \n",
       "2006-12-31    51387.601562  \n",
       "2007-01-01    39584.734375  \n",
       "2007-01-02    14243.933594  \n",
       "2007-01-03    11791.900391  \n",
       "2007-01-04    34779.535156  "
      ]
     },
     "execution_count": 18,
     "metadata": {},
     "output_type": "execute_result"
    }
   ],
   "source": [
    "dataset.head(20)"
   ]
  },
  {
   "cell_type": "code",
   "execution_count": 11,
   "metadata": {},
   "outputs": [],
   "source": [
    "train = dataset.iloc[1:-328,:].values\n",
    "holdout = dataset.iloc[-328:-6,:].values\n",
    "\n",
    "train_trim = len(train) % n_input\n",
    "train = train[:-train_trim]\n",
    "X_train, y_train = preproc.to_supervised(train, n_input)\n",
    "X_train = X_train[:,:,0].reshape(-1, n_input, 1)\n",
    "y_train = y_train[:,:,0].reshape(-1, n_input)"
   ]
  },
  {
   "cell_type": "code",
   "execution_count": 12,
   "metadata": {},
   "outputs": [
    {
     "name": "stdout",
     "output_type": "stream",
     "text": [
      "WARNING:tensorflow:From /home/alastair/venvs/johnny5/lib/python3.7/site-packages/tensorflow/python/framework/op_def_library.py:263: colocate_with (from tensorflow.python.framework.ops) is deprecated and will be removed in a future version.\n",
      "Instructions for updating:\n",
      "Colocations handled automatically by placer.\n"
     ]
    }
   ],
   "source": [
    "mdl = build_model(X_train.shape[1], X_train.shape[2], y_train.shape[1])"
   ]
  },
  {
   "cell_type": "code",
   "execution_count": 13,
   "metadata": {},
   "outputs": [
    {
     "name": "stdout",
     "output_type": "stream",
     "text": [
      "WARNING:tensorflow:From /home/alastair/venvs/johnny5/lib/python3.7/site-packages/tensorflow/python/ops/math_ops.py:3066: to_int32 (from tensorflow.python.ops.math_ops) is deprecated and will be removed in a future version.\n",
      "Instructions for updating:\n",
      "Use tf.cast instead.\n",
      "Epoch 1/20\n",
      "78/78 [==============================] - 1s 13ms/step - loss: 3017323.0000\n",
      "Epoch 2/20\n",
      "78/78 [==============================] - 0s 160us/step - loss: 2957033.5000\n",
      "Epoch 3/20\n",
      "78/78 [==============================] - 0s 202us/step - loss: 2859623.5000\n",
      "Epoch 4/20\n",
      "78/78 [==============================] - 0s 175us/step - loss: 2771827.2500\n",
      "Epoch 5/20\n",
      "78/78 [==============================] - 0s 150us/step - loss: 2726120.7500\n",
      "Epoch 6/20\n",
      "78/78 [==============================] - 0s 131us/step - loss: 2637879.7500\n",
      "Epoch 7/20\n",
      "78/78 [==============================] - 0s 151us/step - loss: 2562604.5000\n",
      "Epoch 8/20\n",
      "78/78 [==============================] - 0s 149us/step - loss: 2509342.7500\n",
      "Epoch 9/20\n",
      "78/78 [==============================] - 0s 149us/step - loss: 2452987.7500\n",
      "Epoch 10/20\n",
      "78/78 [==============================] - 0s 148us/step - loss: 2369792.7500\n",
      "Epoch 11/20\n",
      "78/78 [==============================] - 0s 193us/step - loss: 2296677.0000\n",
      "Epoch 12/20\n",
      "78/78 [==============================] - 0s 157us/step - loss: 2251093.7500\n",
      "Epoch 13/20\n",
      "78/78 [==============================] - 0s 153us/step - loss: 2182299.7500\n",
      "Epoch 14/20\n",
      "78/78 [==============================] - 0s 147us/step - loss: 2129534.7500\n",
      "Epoch 15/20\n",
      "78/78 [==============================] - 0s 158us/step - loss: 2077857.2500\n",
      "Epoch 16/20\n",
      "78/78 [==============================] - 0s 148us/step - loss: 1971297.2500\n",
      "Epoch 17/20\n",
      "78/78 [==============================] - 0s 152us/step - loss: 1886737.6250\n",
      "Epoch 18/20\n",
      "78/78 [==============================] - 0s 175us/step - loss: 1765726.6250\n",
      "Epoch 19/20\n",
      "78/78 [==============================] - 0s 182us/step - loss: 1642302.7500\n",
      "Epoch 20/20\n",
      "78/78 [==============================] - 0s 167us/step - loss: 1515496.5000\n"
     ]
    }
   ],
   "source": [
    "history = mdl.fit(X_train, y_train,\n",
    "                   epochs=20,\n",
    "                   batch_size=1000,\n",
    "                   verbose=1)"
   ]
  },
  {
   "cell_type": "code",
   "execution_count": 14,
   "metadata": {
    "scrolled": true
   },
   "outputs": [],
   "source": [
    "resids = evaluate.resids(mdl, X_train, y_train, n_input)"
   ]
  },
  {
   "cell_type": "code",
   "execution_count": 15,
   "metadata": {},
   "outputs": [
    {
     "data": {
      "text/plain": [
       "<matplotlib.axes._subplots.AxesSubplot at 0x7fdb956cae48>"
      ]
     },
     "execution_count": 15,
     "metadata": {},
     "output_type": "execute_result"
    },
    {
     "data": {
      "image/png": "[encoded data removed]",
      "text/plain": [
       "<Figure size 432x288 with 1 Axes>"
      ]
     },
     "metadata": {
      "needs_background": "light"
     },
     "output_type": "display_data"
    }
   ],
   "source": [
    "resids_df = pd.DataFrame(resids, columns=['su','m','tu','w','th','f','sa'])\n",
    "resids_df.applymap(np.square).mean(axis=0).apply(np.sqrt).plot(marker='.')"
   ]
  },
  {
   "cell_type": "code",
   "execution_count": 24,
   "metadata": {},
   "outputs": [
    {
     "data": {
      "text/plain": [
       "(78, 14, 1)"
      ]
     },
     "execution_count": 24,
     "metadata": {},
     "output_type": "execute_result"
    }
   ],
   "source": [
    "X_train.shape"
   ]
  },
  {
   "cell_type": "code",
   "execution_count": null,
   "metadata": {},
   "outputs": [],
   "source": []
  }
 ],
 "metadata": {
  "kernelspec": {
   "display_name": "johnny5",
   "language": "python",
   "name": "johnny5"
  },
  "language_info": {
   "codemirror_mode": {
    "name": "ipython",
    "version": 3
   },
   "file_extension": ".py",
   "mimetype": "text/x-python",
   "name": "python",
   "nbconvert_exporter": "python",
   "pygments_lexer": "ipython3",
   "version": "3.7.0"
  }
 },
 "nbformat": 4,
 "nbformat_minor": 2
}
